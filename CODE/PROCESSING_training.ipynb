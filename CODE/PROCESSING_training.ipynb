{
 "cells": [
  {
   "cell_type": "code",
   "execution_count": 1,
   "metadata": {},
   "outputs": [
    {
     "name": "stderr",
     "output_type": "stream",
     "text": [
      "/Users/md705/anaconda3/lib/python3.6/site-packages/h5py/__init__.py:36: FutureWarning: Conversion of the second argument of issubdtype from `float` to `np.floating` is deprecated. In future, it will be treated as `np.float64 == np.dtype(float).type`.\n",
      "  from ._conv import register_converters as _register_converters\n",
      "Using TensorFlow backend.\n"
     ]
    }
   ],
   "source": [
    "import keras\n",
    "from keras.utils import to_categorical\n",
    "import pickle\n",
    "from sklearn import preprocessing\n",
    "import random\n",
    "import matplotlib.pyplot as plt\n",
    "import numpy as np\n",
    "from keras.models import Sequential\n",
    "from keras.layers import Dense\n",
    "from keras.utils import plot_model\n",
    "from IPython.display import SVG\n",
    "from keras.utils.vis_utils import model_to_dot\n",
    "from os.path import join\n",
    "from sklearn.model_selection import train_test_split"
   ]
  },
  {
   "cell_type": "code",
   "execution_count": 23,
   "metadata": {},
   "outputs": [],
   "source": [
    "def setting():\n",
    "    info = {\n",
    "        'data_path' : \"dataset_training/video_phases_background_removed.pickle\",\n",
    "        \"model_path\": \"model\"\n",
    "    }\n",
    "    return info\n",
    "\n",
    "def loaddata(filepath):\n",
    "    with open(filepath, 'rb') as file:\n",
    "        data = pickle.load(file)\n",
    "    return data\n",
    "\n",
    "def vector_cat(label_name, le):\n",
    "    vec = np.zeros(len(list(le.classes_)))\n",
    "    vec[int(le.transform([label_name]))] = 1\n",
    "    return vec\n",
    "\n",
    "def shuffle(vec1, vec2):\n",
    "    c = list(zip(vec1,vec2))\n",
    "    random.shuffle(c)\n",
    "    vec1[:], vec2[:] = zip(*c)\n",
    "    return vec1, vec2\n",
    "\n",
    "def set_x_y(data):\n",
    "    \n",
    "    labels = list(data.keys())\n",
    "    le = preprocessing.LabelEncoder()\n",
    "    le.fit(labels)\n",
    "    x = []\n",
    "    y = []\n",
    "    for key in data.keys():\n",
    "        for img in data[key]:\n",
    "            x.append(img.flatten())\n",
    "            y.append(vector_cat(key, le))\n",
    "    return x,y, le\n",
    "\n",
    "def train_test_shuffle(x,y):\n",
    "    x = np.array(x)\n",
    "    y = np.array(y)\n",
    "    train_x, test_x, train_y, test_y = train_test_split(x,y,test_size=0.33, random_state=None)    \n",
    "    return train_x, train_y, test_x, test_y    \n",
    "    "
   ]
  },
  {
   "cell_type": "code",
   "execution_count": 24,
   "metadata": {},
   "outputs": [],
   "source": [
    "# main\n",
    "\n",
    "## Setting\n",
    "info = setting()\n",
    "data = loaddata(info['data_path'])\n",
    "x, y, le = set_x_y(data)\n",
    "train_x, train_y, test_x, test_y = train_test_shuffle(x,y)"
   ]
  },
  {
   "cell_type": "code",
   "execution_count": 29,
   "metadata": {},
   "outputs": [
    {
     "name": "stdout",
     "output_type": "stream",
     "text": [
      "Epoch 1/5\n",
      "7562/7562 [==============================] - 40s 5ms/step - loss: 3.2293 - acc: 0.7996\n",
      "Epoch 2/5\n",
      "7562/7562 [==============================] - 39s 5ms/step - loss: 3.2236 - acc: 0.8000\n",
      "Epoch 3/5\n",
      "7562/7562 [==============================] - 39s 5ms/step - loss: 3.2236 - acc: 0.8000\n",
      "Epoch 4/5\n",
      "7562/7562 [==============================] - 40s 5ms/step - loss: 3.2236 - acc: 0.8000\n",
      "Epoch 5/5\n",
      "7562/7562 [==============================] - 38s 5ms/step - loss: 3.2236 - acc: 0.8000\n",
      "7562/7562 [==============================] - 3s 346us/step\n",
      "\n",
      "acc: 80.00%\n"
     ]
    }
   ],
   "source": [
    "## Learning\n",
    "size_input = train_x[0].shape[0]\n",
    "model = Sequential()\n",
    "model.add(Dense(100, input_dim=size_input, activation='relu'))\n",
    "model.add(Dense(30, activation='relu'))\n",
    "model.add(Dense(len(le.classes_), activation='sigmoid'))\n",
    "# Compile model\n",
    "model.compile(loss='binary_crossentropy', optimizer='adam', metrics=['accuracy'])\n",
    "# Fit the model\n",
    "model.fit(train_x, train_y, epochs=5, batch_size=10)\n",
    "\n",
    "\n",
    "# evaluate the model\n",
    "scores = model.evaluate(train_x, train_y)\n",
    "print(\"\\n%s: %.2f%%\" % (model.metrics_names[1], scores[1]*100))\n",
    "\n",
    "# 10. Evaluate model on test data\n",
    "score = model.evaluate(test_x, test_y, verbose=0)"
   ]
  },
  {
   "cell_type": "code",
   "execution_count": 30,
   "metadata": {},
   "outputs": [],
   "source": [
    "# Save Model\n",
    "model.save(join('model','seq_model.h5'))\n",
    "with open(join('model','seq_model_encoder.pickle'),'wb') as file:\n",
    "    pickle.dump(le, file)\n",
    "\n",
    "with open(join('model','seq_model_train_x.pickle'),'wb') as file:\n",
    "    pickle.dump(train_x, file)\n",
    "\n",
    "with open(join('model','seq_model_train_y.pickle'),'wb') as file:\n",
    "    pickle.dump(train_y, file)\n",
    "\n",
    "with open(join('model','seq_model_test_x.pickle'),'wb') as file:\n",
    "    pickle.dump(test_x, file)\n",
    "\n",
    "with open(join('model','seq_model_test_y.pickle'),'wb') as file:\n",
    "    pickle.dump(test_y, file)"
   ]
  },
  {
   "cell_type": "code",
   "execution_count": 31,
   "metadata": {},
   "outputs": [
    {
     "name": "stdout",
     "output_type": "stream",
     "text": [
      "7562/7562 [==============================] - 3s 333us/step\n"
     ]
    },
    {
     "data": {
      "text/plain": [
       "[3.223618984222412, 0.800000011920929]"
      ]
     },
     "execution_count": 31,
     "metadata": {},
     "output_type": "execute_result"
    }
   ],
   "source": [
    "model.evaluate(train_x, train_y)"
   ]
  },
  {
   "cell_type": "code",
   "execution_count": 32,
   "metadata": {},
   "outputs": [
    {
     "data": {
      "text/plain": [
       "[3.2236189851182413, 0.8000000121448863]"
      ]
     },
     "execution_count": 32,
     "metadata": {},
     "output_type": "execute_result"
    }
   ],
   "source": [
    "model.evaluate(test_x, test_y, verbose=0)"
   ]
  },
  {
   "cell_type": "code",
   "execution_count": 37,
   "metadata": {},
   "outputs": [
    {
     "data": {
      "text/plain": [
       "False"
      ]
     },
     "execution_count": 37,
     "metadata": {},
     "output_type": "execute_result"
    }
   ],
   "source": [
    "np.array_equal(test_x, test_y)"
   ]
  },
  {
   "cell_type": "code",
   "execution_count": 47,
   "metadata": {},
   "outputs": [
    {
     "data": {
      "text/plain": [
       "array([[0., 0., 0., 0., 0.]], dtype=float32)"
      ]
     },
     "execution_count": 47,
     "metadata": {},
     "output_type": "execute_result"
    }
   ],
   "source": [
    "model.predict_proba(np.array([test_x[100]]))"
   ]
  },
  {
   "cell_type": "code",
   "execution_count": 42,
   "metadata": {},
   "outputs": [
    {
     "data": {
      "text/plain": [
       "array([0., 1., 0., 0., 0.])"
      ]
     },
     "execution_count": 42,
     "metadata": {},
     "output_type": "execute_result"
    }
   ],
   "source": [
    "test_y[1]"
   ]
  },
  {
   "cell_type": "code",
   "execution_count": null,
   "metadata": {},
   "outputs": [],
   "source": []
  }
 ],
 "metadata": {
  "kernelspec": {
   "display_name": "Python 3",
   "language": "python",
   "name": "python3"
  },
  "language_info": {
   "codemirror_mode": {
    "name": "ipython",
    "version": 3
   },
   "file_extension": ".py",
   "mimetype": "text/x-python",
   "name": "python",
   "nbconvert_exporter": "python",
   "pygments_lexer": "ipython3",
   "version": "3.7.0"
  }
 },
 "nbformat": 4,
 "nbformat_minor": 2
}
