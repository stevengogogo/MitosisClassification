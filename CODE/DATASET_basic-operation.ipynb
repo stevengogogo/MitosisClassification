{
 "cells": [
  {
   "cell_type": "markdown",
   "metadata": {},
   "source": []
  },
  {
   "cell_type": "code",
   "execution_count": 2,
   "metadata": {},
   "outputs": [],
   "source": [
    "import os\n",
    "import pandas as pd\n",
    "from os.path import join"
   ]
  },
  {
   "cell_type": "markdown",
   "metadata": {},
   "source": [
    "# 整理資料\n",
    "- 使用資料夾 'data/small-movie_duplicate_dual-only/' \n",
    "    - 只含有 dual 的影像資料\n",
    "    - CSV 文件 \"DESCRIPTION_dual-only.csv\" 是從 \"歡summary-mannual-inspection-0709-2018 -template 4_filename-revised.csv\" 留下有 \"dual\" 檔名的影片"
   ]
  },
  {
   "cell_type": "code",
   "execution_count": 3,
   "metadata": {},
   "outputs": [],
   "source": [
    "# SETTING\n",
    "img_folder = 'data/small-movie_duplicate_dual-only/'\n",
    "movie_format = '.tif'\n",
    "keep_filename = 'dual' # only read filename with \"dual\"\n",
    "dataset = pd.read_csv(join(img_folder, 'DESCRIPTION_dual-only.csv'))\n",
    "dataset_full =  pd.read_csv(join(img_folder, 'DESCRIPTION_dual-only_full-classification.csv'))"
   ]
  },
  {
   "cell_type": "code",
   "execution_count": 4,
   "metadata": {},
   "outputs": [
    {
     "name": "stdout",
     "output_type": "stream",
     "text": [
      "102\n"
     ]
    },
    {
     "data": {
      "text/html": [
       "<div>\n",
       "<style scoped>\n",
       "    .dataframe tbody tr th:only-of-type {\n",
       "        vertical-align: middle;\n",
       "    }\n",
       "\n",
       "    .dataframe tbody tr th {\n",
       "        vertical-align: top;\n",
       "    }\n",
       "\n",
       "    .dataframe thead th {\n",
       "        text-align: right;\n",
       "    }\n",
       "</style>\n",
       "<table border=\"1\" class=\"dataframe\">\n",
       "  <thead>\n",
       "    <tr style=\"text-align: right;\">\n",
       "      <th></th>\n",
       "      <th>FileName_TIFF</th>\n",
       "      <th>concentration at division furrow</th>\n",
       "      <th>stretching</th>\n",
       "      <th>thinning before fission</th>\n",
       "      <th>spindle length (pixel)</th>\n",
       "      <th>start anaphase</th>\n",
       "      <th>start concentration</th>\n",
       "      <th>start cytokinesis</th>\n",
       "      <th>start stretching</th>\n",
       "      <th>complete division</th>\n",
       "      <th>...</th>\n",
       "      <th>daughter nuclear intensity variance</th>\n",
       "      <th>daughter mitochondrial area 1</th>\n",
       "      <th>daughter mitochonrial area 2</th>\n",
       "      <th>daughter mitochondrial intensity 1</th>\n",
       "      <th>daughter mitochondrial intensity 2</th>\n",
       "      <th>daughter mitochondrial area variance</th>\n",
       "      <th>daughter mitochondrial intensity variance</th>\n",
       "      <th>notes</th>\n",
       "      <th>coverage of duration</th>\n",
       "      <th>total recorded frame number</th>\n",
       "    </tr>\n",
       "  </thead>\n",
       "  <tbody>\n",
       "    <tr>\n",
       "      <th>0</th>\n",
       "      <td>11302017_c1_dual_decon-asymmetric-partition.tif</td>\n",
       "      <td>n</td>\n",
       "      <td>y</td>\n",
       "      <td>y</td>\n",
       "      <td>516</td>\n",
       "      <td>272</td>\n",
       "      <td>na</td>\n",
       "      <td>335</td>\n",
       "      <td>430</td>\n",
       "      <td>585</td>\n",
       "      <td>...</td>\n",
       "      <td>0.064936998</td>\n",
       "      <td>146465</td>\n",
       "      <td>114962</td>\n",
       "      <td>13990221</td>\n",
       "      <td>10231039</td>\n",
       "      <td>0.120504003</td>\n",
       "      <td>0.155201753</td>\n",
       "      <td>NaN</td>\n",
       "      <td>metaphase-division</td>\n",
       "      <td>794.0</td>\n",
       "    </tr>\n",
       "    <tr>\n",
       "      <th>1</th>\n",
       "      <td>11302017_c10_dual_decon-normal.tif</td>\n",
       "      <td>y</td>\n",
       "      <td>y</td>\n",
       "      <td>n</td>\n",
       "      <td>584</td>\n",
       "      <td>74</td>\n",
       "      <td>270</td>\n",
       "      <td>404</td>\n",
       "      <td>509</td>\n",
       "      <td>616</td>\n",
       "      <td>...</td>\n",
       "      <td>0.035595805</td>\n",
       "      <td>136360</td>\n",
       "      <td>137504</td>\n",
       "      <td>10350530</td>\n",
       "      <td>11236200</td>\n",
       "      <td>0.004177256</td>\n",
       "      <td>0.041028447</td>\n",
       "      <td>NaN</td>\n",
       "      <td>metaphase-division</td>\n",
       "      <td>616.0</td>\n",
       "    </tr>\n",
       "    <tr>\n",
       "      <th>2</th>\n",
       "      <td>11302017_c3_dual_decon-normal.tif</td>\n",
       "      <td>y</td>\n",
       "      <td>y</td>\n",
       "      <td>y</td>\n",
       "      <td>533</td>\n",
       "      <td>48</td>\n",
       "      <td>153</td>\n",
       "      <td>252</td>\n",
       "      <td>361</td>\n",
       "      <td>433</td>\n",
       "      <td>...</td>\n",
       "      <td>0.107123687</td>\n",
       "      <td>179307</td>\n",
       "      <td>185906</td>\n",
       "      <td>10580725</td>\n",
       "      <td>9292270</td>\n",
       "      <td>0.018068908</td>\n",
       "      <td>0.064834465</td>\n",
       "      <td>NaN</td>\n",
       "      <td>metaphase-division</td>\n",
       "      <td>541.0</td>\n",
       "    </tr>\n",
       "    <tr>\n",
       "      <th>3</th>\n",
       "      <td>11302017_c5_dual_decon-normal-fragmented-mitoc...</td>\n",
       "      <td>y</td>\n",
       "      <td>y</td>\n",
       "      <td>n</td>\n",
       "      <td>565</td>\n",
       "      <td>530</td>\n",
       "      <td>643</td>\n",
       "      <td>773</td>\n",
       "      <td>888</td>\n",
       "      <td>1011</td>\n",
       "      <td>...</td>\n",
       "      <td>0.005555904</td>\n",
       "      <td>102456</td>\n",
       "      <td>144941</td>\n",
       "      <td>7451140</td>\n",
       "      <td>8993119</td>\n",
       "      <td>0.171728032</td>\n",
       "      <td>0.093770051</td>\n",
       "      <td>short tubules</td>\n",
       "      <td>metaphase-division</td>\n",
       "      <td>1130.0</td>\n",
       "    </tr>\n",
       "    <tr>\n",
       "      <th>4</th>\n",
       "      <td>11302017_c6_dual_decon-normal.tif</td>\n",
       "      <td>y</td>\n",
       "      <td>y</td>\n",
       "      <td>n</td>\n",
       "      <td>530</td>\n",
       "      <td>35</td>\n",
       "      <td>157</td>\n",
       "      <td>280</td>\n",
       "      <td>365</td>\n",
       "      <td>518</td>\n",
       "      <td>...</td>\n",
       "      <td>0.245671761</td>\n",
       "      <td>175847</td>\n",
       "      <td>205592</td>\n",
       "      <td>10102398</td>\n",
       "      <td>12035841</td>\n",
       "      <td>0.077981014</td>\n",
       "      <td>0.087334995</td>\n",
       "      <td>several large granules</td>\n",
       "      <td>metaphase-division</td>\n",
       "      <td>679.0</td>\n",
       "    </tr>\n",
       "  </tbody>\n",
       "</table>\n",
       "<p>5 rows × 25 columns</p>\n",
       "</div>"
      ],
      "text/plain": [
       "                                       FileName_TIFF  \\\n",
       "0    11302017_c1_dual_decon-asymmetric-partition.tif   \n",
       "1                 11302017_c10_dual_decon-normal.tif   \n",
       "2                  11302017_c3_dual_decon-normal.tif   \n",
       "3  11302017_c5_dual_decon-normal-fragmented-mitoc...   \n",
       "4                  11302017_c6_dual_decon-normal.tif   \n",
       "\n",
       "  concentration at division furrow stretching thinning before fission  \\\n",
       "0                                n          y                       y   \n",
       "1                                y          y                       n   \n",
       "2                                y          y                       y   \n",
       "3                                y          y                       n   \n",
       "4                                y          y                       n   \n",
       "\n",
       "  spindle length (pixel) start anaphase start concentration start cytokinesis  \\\n",
       "0                    516            272                  na               335   \n",
       "1                    584             74                 270               404   \n",
       "2                    533             48                 153               252   \n",
       "3                    565            530                 643               773   \n",
       "4                    530             35                 157               280   \n",
       "\n",
       "  start stretching complete division             ...              \\\n",
       "0              430               585             ...               \n",
       "1              509               616             ...               \n",
       "2              361               433             ...               \n",
       "3              888              1011             ...               \n",
       "4              365               518             ...               \n",
       "\n",
       "  daughter nuclear intensity variance daughter mitochondrial area 1  \\\n",
       "0                         0.064936998                        146465   \n",
       "1                         0.035595805                        136360   \n",
       "2                         0.107123687                        179307   \n",
       "3                         0.005555904                        102456   \n",
       "4                         0.245671761                        175847   \n",
       "\n",
       "  daughter mitochonrial area 2 daughter mitochondrial intensity 1  \\\n",
       "0                       114962                           13990221   \n",
       "1                       137504                           10350530   \n",
       "2                       185906                           10580725   \n",
       "3                       144941                            7451140   \n",
       "4                       205592                           10102398   \n",
       "\n",
       "  daughter mitochondrial intensity 2 daughter mitochondrial area variance  \\\n",
       "0                           10231039                          0.120504003   \n",
       "1                           11236200                          0.004177256   \n",
       "2                            9292270                          0.018068908   \n",
       "3                            8993119                          0.171728032   \n",
       "4                           12035841                          0.077981014   \n",
       "\n",
       "  daughter mitochondrial intensity variance                   notes  \\\n",
       "0                               0.155201753                     NaN   \n",
       "1                               0.041028447                     NaN   \n",
       "2                               0.064834465                     NaN   \n",
       "3                               0.093770051           short tubules   \n",
       "4                               0.087334995  several large granules   \n",
       "\n",
       "  coverage of duration total recorded frame number  \n",
       "0   metaphase-division                       794.0  \n",
       "1   metaphase-division                       616.0  \n",
       "2   metaphase-division                       541.0  \n",
       "3   metaphase-division                      1130.0  \n",
       "4   metaphase-division                       679.0  \n",
       "\n",
       "[5 rows x 25 columns]"
      ]
     },
     "execution_count": 4,
     "metadata": {},
     "output_type": "execute_result"
    }
   ],
   "source": [
    "# DATASET\n",
    "print(len(dataset))\n",
    "dataset.head()"
   ]
  },
  {
   "cell_type": "markdown",
   "metadata": {},
   "source": [
    "# 查看細胞分裂狀態的缺失情形\n",
    "- 留下有完整分裂資訊的檔名 (\"DESCRIPTION_dual-only_full-classification.csv\")"
   ]
  },
  {
   "cell_type": "code",
   "execution_count": 102,
   "metadata": {},
   "outputs": [],
   "source": [
    "from math import isnan"
   ]
  },
  {
   "cell_type": "code",
   "execution_count": 80,
   "metadata": {},
   "outputs": [
    {
     "data": {
      "text/plain": [
       "True"
      ]
     },
     "execution_count": 80,
     "metadata": {},
     "output_type": "execute_result"
    }
   ],
   "source": [
    "dataset['start anaphase'][0].isnumeric()"
   ]
  },
  {
   "cell_type": "code",
   "execution_count": 105,
   "metadata": {},
   "outputs": [],
   "source": [
    "d = dataset.copy()\n",
    "for i in range(0, len(d)):\n",
    "    a = d['start anaphase'][i]\n",
    "    b = d['start concentration'][i]\n",
    "    c = d['start cytokinesis'][i]\n",
    "    d1 = d['start stretching'][i]\n",
    "    e =  d['complete division'][i]\n",
    "    \n",
    "    a, b, c, d1, e = str(a), str(b), str(c), str(d1), str(e)\n",
    "    \n",
    "    if a.isnumeric() and b.isnumeric() and c.isnumeric() and d1.isnumeric() and e.isnumeric():\n",
    "        pass\n",
    "    else:\n",
    "        d = d.drop([i])"
   ]
  },
  {
   "cell_type": "raw",
   "metadata": {},
   "source": [
    "d.to_csv('DESCRIPTION_dual-only_full-classification.csv')"
   ]
  },
  {
   "cell_type": "markdown",
   "metadata": {},
   "source": [
    "# Image Preprocessing - An Example"
   ]
  },
  {
   "cell_type": "code",
   "execution_count": 7,
   "metadata": {},
   "outputs": [],
   "source": [
    "import matplotlib.pyplot as plt"
   ]
  },
  {
   "cell_type": "code",
   "execution_count": 8,
   "metadata": {},
   "outputs": [],
   "source": [
    "from skimage import io\n",
    "\n",
    "# Function\n",
    "def get_dir(index):\n",
    "    v_name = dataset_full['FileName_TIFF'][index]\n",
    "    v_name = join(img_folder, v_name)\n",
    "    return v_name\n",
    "\n",
    "# Sample Video\n",
    "v_name = get_dir(0)\n",
    "v_name2 = get_dir(1)\n",
    "\n",
    "# Read Video\n",
    "video = io.imread(v_name)\n",
    "video2 = io.imread(v_name2)"
   ]
  },
  {
   "cell_type": "code",
   "execution_count": 9,
   "metadata": {},
   "outputs": [
    {
     "data": {
      "text/plain": [
       "(616, 350, 350, 3)"
      ]
     },
     "execution_count": 9,
     "metadata": {},
     "output_type": "execute_result"
    }
   ],
   "source": [
    "video.shape"
   ]
  },
  {
   "cell_type": "markdown",
   "metadata": {},
   "source": [
    "[time,x,y,channel]\n",
    "\n",
    "|channel|type|\n",
    "|---|---|\n",
    "|0|nucleus|\n",
    "|1|mitochondria|\n",
    "|2|nucleus|"
   ]
  },
  {
   "cell_type": "code",
   "execution_count": 20,
   "metadata": {},
   "outputs": [
    {
     "data": {
      "text/plain": [
       "<matplotlib.image.AxesImage at 0x10ebdb668>"
      ]
     },
     "execution_count": 20,
     "metadata": {},
     "output_type": "execute_result"
    },
    {
     "data": {
      "image/png": "[encoded data removed]",
      "text/plain": [
       "<Figure size 432x288 with 1 Axes>"
      ]
     },
     "metadata": {},
     "output_type": "display_data"
    }
   ],
   "source": [
    "plt.imshow(video[50,:,:,0])"
   ]
  },
  {
   "cell_type": "markdown",
   "metadata": {},
   "source": [
    "#### video3 = io.imread(get_dir(10))\n",
    "#plt.imshow(video3)"
   ]
  },
  {
   "cell_type": "code",
   "execution_count": null,
   "metadata": {},
   "outputs": [],
   "source": [
    "video3.shape"
   ]
  },
  {
   "cell_type": "markdown",
   "metadata": {},
   "source": [
    "# Separate Videos for classification\n",
    "將影像分割不同 stage, 進行 classification"
   ]
  },
  {
   "cell_type": "code",
   "execution_count": 116,
   "metadata": {},
   "outputs": [
    {
     "data": {
      "text/html": [
       "<div>\n",
       "<style scoped>\n",
       "    .dataframe tbody tr th:only-of-type {\n",
       "        vertical-align: middle;\n",
       "    }\n",
       "\n",
       "    .dataframe tbody tr th {\n",
       "        vertical-align: top;\n",
       "    }\n",
       "\n",
       "    .dataframe thead th {\n",
       "        text-align: right;\n",
       "    }\n",
       "</style>\n",
       "<table border=\"1\" class=\"dataframe\">\n",
       "  <thead>\n",
       "    <tr style=\"text-align: right;\">\n",
       "      <th></th>\n",
       "      <th>Unnamed: 0</th>\n",
       "      <th>FileName_TIFF</th>\n",
       "      <th>concentration at division furrow</th>\n",
       "      <th>stretching</th>\n",
       "      <th>thinning before fission</th>\n",
       "      <th>spindle length (pixel)</th>\n",
       "      <th>start anaphase</th>\n",
       "      <th>start concentration</th>\n",
       "      <th>start cytokinesis</th>\n",
       "      <th>start stretching</th>\n",
       "      <th>...</th>\n",
       "      <th>daughter nuclear intensity variance</th>\n",
       "      <th>daughter mitochondrial area 1</th>\n",
       "      <th>daughter mitochonrial area 2</th>\n",
       "      <th>daughter mitochondrial intensity 1</th>\n",
       "      <th>daughter mitochondrial intensity 2</th>\n",
       "      <th>daughter mitochondrial area variance</th>\n",
       "      <th>daughter mitochondrial intensity variance</th>\n",
       "      <th>notes</th>\n",
       "      <th>coverage of duration</th>\n",
       "      <th>total recorded frame number</th>\n",
       "    </tr>\n",
       "  </thead>\n",
       "  <tbody>\n",
       "    <tr>\n",
       "      <th>0</th>\n",
       "      <td>1</td>\n",
       "      <td>11302017_c10_dual_decon-normal.tif</td>\n",
       "      <td>y</td>\n",
       "      <td>y</td>\n",
       "      <td>n</td>\n",
       "      <td>584</td>\n",
       "      <td>74</td>\n",
       "      <td>270</td>\n",
       "      <td>404</td>\n",
       "      <td>509</td>\n",
       "      <td>...</td>\n",
       "      <td>0.035596</td>\n",
       "      <td>136360</td>\n",
       "      <td>137504</td>\n",
       "      <td>10350530</td>\n",
       "      <td>11236200</td>\n",
       "      <td>0.004177</td>\n",
       "      <td>0.041028</td>\n",
       "      <td>NaN</td>\n",
       "      <td>metaphase-division</td>\n",
       "      <td>616.0</td>\n",
       "    </tr>\n",
       "    <tr>\n",
       "      <th>1</th>\n",
       "      <td>2</td>\n",
       "      <td>11302017_c3_dual_decon-normal.tif</td>\n",
       "      <td>y</td>\n",
       "      <td>y</td>\n",
       "      <td>y</td>\n",
       "      <td>533</td>\n",
       "      <td>48</td>\n",
       "      <td>153</td>\n",
       "      <td>252</td>\n",
       "      <td>361</td>\n",
       "      <td>...</td>\n",
       "      <td>0.107124</td>\n",
       "      <td>179307</td>\n",
       "      <td>185906</td>\n",
       "      <td>10580725</td>\n",
       "      <td>9292270</td>\n",
       "      <td>0.018069</td>\n",
       "      <td>0.064834</td>\n",
       "      <td>NaN</td>\n",
       "      <td>metaphase-division</td>\n",
       "      <td>541.0</td>\n",
       "    </tr>\n",
       "    <tr>\n",
       "      <th>2</th>\n",
       "      <td>3</td>\n",
       "      <td>11302017_c5_dual_decon-normal-fragmented-mitoc...</td>\n",
       "      <td>y</td>\n",
       "      <td>y</td>\n",
       "      <td>n</td>\n",
       "      <td>565</td>\n",
       "      <td>530</td>\n",
       "      <td>643</td>\n",
       "      <td>773</td>\n",
       "      <td>888</td>\n",
       "      <td>...</td>\n",
       "      <td>0.005556</td>\n",
       "      <td>102456</td>\n",
       "      <td>144941</td>\n",
       "      <td>7451140</td>\n",
       "      <td>8993119</td>\n",
       "      <td>0.171728</td>\n",
       "      <td>0.093770</td>\n",
       "      <td>short tubules</td>\n",
       "      <td>metaphase-division</td>\n",
       "      <td>1130.0</td>\n",
       "    </tr>\n",
       "    <tr>\n",
       "      <th>3</th>\n",
       "      <td>4</td>\n",
       "      <td>11302017_c6_dual_decon-normal.tif</td>\n",
       "      <td>y</td>\n",
       "      <td>y</td>\n",
       "      <td>n</td>\n",
       "      <td>530</td>\n",
       "      <td>35</td>\n",
       "      <td>157</td>\n",
       "      <td>280</td>\n",
       "      <td>365</td>\n",
       "      <td>...</td>\n",
       "      <td>0.245672</td>\n",
       "      <td>175847</td>\n",
       "      <td>205592</td>\n",
       "      <td>10102398</td>\n",
       "      <td>12035841</td>\n",
       "      <td>0.077981</td>\n",
       "      <td>0.087335</td>\n",
       "      <td>several large granules</td>\n",
       "      <td>metaphase-division</td>\n",
       "      <td>679.0</td>\n",
       "    </tr>\n",
       "    <tr>\n",
       "      <th>4</th>\n",
       "      <td>6</td>\n",
       "      <td>11302017_c8_dual_decon-normal-short-few.tif</td>\n",
       "      <td>y</td>\n",
       "      <td>y</td>\n",
       "      <td>y</td>\n",
       "      <td>428</td>\n",
       "      <td>30</td>\n",
       "      <td>144</td>\n",
       "      <td>282</td>\n",
       "      <td>356</td>\n",
       "      <td>...</td>\n",
       "      <td>0.008138</td>\n",
       "      <td>122043</td>\n",
       "      <td>126390</td>\n",
       "      <td>9477118</td>\n",
       "      <td>9794184</td>\n",
       "      <td>0.017498</td>\n",
       "      <td>0.016453</td>\n",
       "      <td>good</td>\n",
       "      <td>metaphase-division</td>\n",
       "      <td>509.0</td>\n",
       "    </tr>\n",
       "  </tbody>\n",
       "</table>\n",
       "<p>5 rows × 26 columns</p>\n",
       "</div>"
      ],
      "text/plain": [
       "   Unnamed: 0                                      FileName_TIFF  \\\n",
       "0           1                 11302017_c10_dual_decon-normal.tif   \n",
       "1           2                  11302017_c3_dual_decon-normal.tif   \n",
       "2           3  11302017_c5_dual_decon-normal-fragmented-mitoc...   \n",
       "3           4                  11302017_c6_dual_decon-normal.tif   \n",
       "4           6        11302017_c8_dual_decon-normal-short-few.tif   \n",
       "\n",
       "  concentration at division furrow stretching thinning before fission  \\\n",
       "0                                y          y                       n   \n",
       "1                                y          y                       y   \n",
       "2                                y          y                       n   \n",
       "3                                y          y                       n   \n",
       "4                                y          y                       y   \n",
       "\n",
       "   spindle length (pixel)  start anaphase  start concentration  \\\n",
       "0                     584              74                  270   \n",
       "1                     533              48                  153   \n",
       "2                     565             530                  643   \n",
       "3                     530              35                  157   \n",
       "4                     428              30                  144   \n",
       "\n",
       "   start cytokinesis  start stretching             ...               \\\n",
       "0                404               509             ...                \n",
       "1                252               361             ...                \n",
       "2                773               888             ...                \n",
       "3                280               365             ...                \n",
       "4                282               356             ...                \n",
       "\n",
       "   daughter nuclear intensity variance  daughter mitochondrial area 1  \\\n",
       "0                             0.035596                         136360   \n",
       "1                             0.107124                         179307   \n",
       "2                             0.005556                         102456   \n",
       "3                             0.245672                         175847   \n",
       "4                             0.008138                         122043   \n",
       "\n",
       "   daughter mitochonrial area 2  daughter mitochondrial intensity 1  \\\n",
       "0                        137504                            10350530   \n",
       "1                        185906                            10580725   \n",
       "2                        144941                             7451140   \n",
       "3                        205592                            10102398   \n",
       "4                        126390                             9477118   \n",
       "\n",
       "   daughter mitochondrial intensity 2  daughter mitochondrial area variance  \\\n",
       "0                            11236200                              0.004177   \n",
       "1                             9292270                              0.018069   \n",
       "2                             8993119                              0.171728   \n",
       "3                            12035841                              0.077981   \n",
       "4                             9794184                              0.017498   \n",
       "\n",
       "   daughter mitochondrial intensity variance                   notes  \\\n",
       "0                                   0.041028                     NaN   \n",
       "1                                   0.064834                     NaN   \n",
       "2                                   0.093770           short tubules   \n",
       "3                                   0.087335  several large granules   \n",
       "4                                   0.016453                    good   \n",
       "\n",
       "   coverage of duration  total recorded frame number  \n",
       "0    metaphase-division                        616.0  \n",
       "1    metaphase-division                        541.0  \n",
       "2    metaphase-division                       1130.0  \n",
       "3    metaphase-division                        679.0  \n",
       "4    metaphase-division                        509.0  \n",
       "\n",
       "[5 rows x 26 columns]"
      ]
     },
     "execution_count": 116,
     "metadata": {},
     "output_type": "execute_result"
    }
   ],
   "source": [
    "dataset_full.head()"
   ]
  },
  {
   "cell_type": "code",
   "execution_count": 117,
   "metadata": {},
   "outputs": [
    {
     "data": {
      "text/plain": [
       "Index(['FileName_TIFF', 'concentration at division furrow', 'stretching',\n",
       "       'thinning before fission', 'spindle length (pixel)', 'start anaphase',\n",
       "       'start concentration', 'start cytokinesis', 'start stretching',\n",
       "       'complete division', 'daughter nuclear area 1',\n",
       "       'daughter nuclear area 2', 'daughter nuclear intensity 1',\n",
       "       'daughter nuclear intensity 2', 'daughter nuclear area variance',\n",
       "       'daughter nuclear intensity variance', 'daughter mitochondrial area 1',\n",
       "       'daughter mitochonrial area 2', 'daughter mitochondrial intensity 1',\n",
       "       'daughter mitochondrial intensity 2',\n",
       "       'daughter mitochondrial area variance',\n",
       "       'daughter mitochondrial intensity variance', 'notes',\n",
       "       'coverage of duration', 'total recorded frame number'],\n",
       "      dtype='object')"
      ]
     },
     "execution_count": 117,
     "metadata": {},
     "output_type": "execute_result"
    }
   ],
   "source": [
    "dataset.keys()"
   ]
  },
  {
   "cell_type": "code",
   "execution_count": 55,
   "metadata": {},
   "outputs": [],
   "source": [
    "video_phase = {\n",
    "    'anaphase': [],\n",
    "    'concentration': [],\n",
    "    'cytokinesis': [],\n",
    "    'stretching': [],\n",
    "    'g0':[]\n",
    "}\n",
    "\n",
    "ch = {\n",
    "    'nuc': 0,\n",
    "    'mito': 1\n",
    "}"
   ]
  },
  {
   "cell_type": "code",
   "execution_count": 56,
   "metadata": {},
   "outputs": [],
   "source": [
    "for i, video_name in enumerate(dataset_full['FileName_TIFF']):\n",
    "    \n",
    "    # Read Video\n",
    "    video = io.imread(join(img_folder, video_name))\n",
    "    \n",
    "    # Phase \n",
    "    anaphase_start, anaphase_end = dataset_full['start anaphase'][i] - 1,  dataset_full['start concentration'][i] -1\n",
    "    \n",
    "    concentration_start, concentration_end = dataset_full['start concentration'][i]-1, dataset_full['start cytokinesis'][i]-1\n",
    "    \n",
    "    cytokinesis_start, cytokinesis_end = dataset_full['start cytokinesis'][i]-1, dataset_full['start stretching'][i]-1\n",
    "    \n",
    "    stretching_start, stretching_end = dataset_full['start stretching'][i]-1, dataset_full['complete division'][i]-1\n",
    "    \n",
    "    # Set Integer\n",
    "    anaphase_start, anaphase_end = int(anaphase_start), int(anaphase_end)\n",
    "    concentration_start, concentration_end = int(concentration_start), int(concentration_end)\n",
    "    cytokinesis_start, cytokinesis_end = int(cytokinesis_start), int(cytokinesis_end)\n",
    "    stretching_start, stretching_end = int(stretching_start), int(stretching_end)\n",
    "    \n",
    "    # Store images\n",
    "    \n",
    "    video_phase['anaphase'].append(video[anaphase_start: anaphase_end,:,:,ch['nuc']])\n",
    "    video_phase['concentration'].append(video[concentration_start: concentration_end,:,:,ch['nuc']])\n",
    "    video_phase['cytokinesis'].append(video[cytokinesis_start: cytokinesis_end,:,:,ch['nuc']])\n",
    "    video_phase['stretching'].append(video[stretching_start:stretching_end,:,:,ch['nuc']])\n",
    "    video_phase['g0'].append(video[0:anaphase_start,:,:,ch['nuc']])\n",
    "    video_phase['g0'].append(video[stretching_end:,0,0,ch['nuc']])\n",
    "    \n",
    "    \"\"\"\n",
    "    # Anaphase\n",
    "    for img in video[anaphase_start: anaphase_end,:,:,ch['nuc']]:\n",
    "        video_phase['anaphase'].append(img)\n",
    "    # Concentration\n",
    "    for img in video[concentration_start: concentration_end,:,:,ch['nuc']]:\n",
    "        video_phase['concentration'].append(img)\n",
    "    # Cytokinesis\n",
    "    for img in video[cytokinesis_start: cytokinesis_end,:,:,ch['nuc']]:\n",
    "        video_phase['cytokinesis'].append(img)\n",
    "    # Stretching\n",
    "    for img in video[stretching_start:stretching_end,:,:,ch['nuc']]:\n",
    "        video_phase['stretching'].append(img)\n",
    "    # G0 phase\n",
    "    for img in video[0:anaphase_start,:,:,ch['nuc']]:\n",
    "        video_phase['g0'].append(img)\n",
    "   \n",
    "    for img in video[stretching_end:,0,0,ch['nuc']]:\n",
    "        video_phase['g0'].append(img)\n",
    "    \"\"\"    \n",
    "        \n",
    "        \n",
    "        \n",
    "        \n",
    "        \n",
    "        "
   ]
  },
  {
   "cell_type": "code",
   "execution_count": 57,
   "metadata": {},
   "outputs": [
    {
     "name": "stdout",
     "output_type": "stream",
     "text": [
      "anaphase:22\n",
      "concentration:22\n",
      "cytokinesis:22\n",
      "stretching:22\n",
      "g0:44\n"
     ]
    }
   ],
   "source": [
    "for i in video_phase.keys():\n",
    "    print('{}:{}'.format(i, len(video_phase[i])))"
   ]
  },
  {
   "cell_type": "code",
   "execution_count": 60,
   "metadata": {},
   "outputs": [
    {
     "data": {
      "text/plain": [
       "<matplotlib.image.AxesImage at 0x10f8b62b0>"
      ]
     },
     "execution_count": 60,
     "metadata": {},
     "output_type": "execute_result"
    },
    {
     "data": {
      "image/png": "[encoded data removed]",
      "text/plain": [
       "<Figure size 432x288 with 1 Axes>"
      ]
     },
     "metadata": {},
     "output_type": "display_data"
    }
   ],
   "source": [
    "plt.imshow(video_phase['anaphase'][0][0,:,:])"
   ]
  },
  {
   "cell_type": "markdown",
   "metadata": {},
   "source": [
    "# 儲存分割好的 dataset"
   ]
  },
  {
   "cell_type": "code",
   "execution_count": 61,
   "metadata": {},
   "outputs": [],
   "source": [
    "import pickle\n",
    "file = open('video_phases_combined.pickle', 'wb')\n",
    "pickle.dump(video_phase, file)\n",
    "file.close()"
   ]
  },
  {
   "cell_type": "code",
   "execution_count": 50,
   "metadata": {},
   "outputs": [],
   "source": [
    "with open('video_phases.pickle', 'rb') as file:\n",
    "    a_dict1 =pickle.load(file)"
   ]
  },
  {
   "cell_type": "code",
   "execution_count": 51,
   "metadata": {},
   "outputs": [
    {
     "data": {
      "text/plain": [
       "<matplotlib.image.AxesImage at 0x117cbc208>"
      ]
     },
     "execution_count": 51,
     "metadata": {},
     "output_type": "execute_result"
    },
    {
     "data": {
      "image/png": "[encoded data removed]",
      "text/plain": [
       "<Figure size 432x288 with 1 Axes>"
      ]
     },
     "metadata": {},
     "output_type": "display_data"
    }
   ],
   "source": [
    "plt.imshow(a_dict1['anaphase'][700])"
   ]
  }
 ],
 "metadata": {
  "kernelspec": {
   "display_name": "Python 3",
   "language": "python",
   "name": "python3"
  },
  "language_info": {
   "codemirror_mode": {
    "name": "ipython",
    "version": 3
   },
   "file_extension": ".py",
   "mimetype": "text/x-python",
   "name": "python",
   "nbconvert_exporter": "python",
   "pygments_lexer": "ipython3",
   "version": "3.7.0"
  }
 },
 "nbformat": 4,
 "nbformat_minor": 2
}
